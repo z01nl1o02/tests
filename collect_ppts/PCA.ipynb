{
 "cells": [
  {
   "cell_type": "markdown",
   "metadata": {},
   "source": [
    "# PCA主元分析   \n",
    "假设数据符合高斯分布，目标是得到一组正交基，使得数据在这组正交基上分布放方差最大，PCA最大的用途是数据降维。   \n",
    "已知一组数据$(X_1, X_2, ..., X_N)$,其中每个数据$X_i$都是n维列向量，利用矩阵分解求解PCA的步骤如下\n",
    "1. 计算均值   \n",
    "   $X_{mean} = \\frac{1}{N}\\sum_{i=1}^N X_i$\n",
    "2. 去中心化   \n",
    "   $\\bar X_i = X_i - X_{mean}$\n",
    "3. 计算协方差矩阵 (特征的协方差）    \n",
    "   $C = \\bar X \\bar X^T$\n",
    "4. 矩阵分解，求$C$的特征值和特征向量  \n",
    "   $(\\lambda _i，V_i) \\ \\ \\ i = 1,2,...,N$   \n",
    "   其中$\\lambda _i$是特征值，$V_i$是特征向量，其中$V_i$就是要求取的正交基，$\\lambda _i$表示数据在$V_i$的分布，和数据在该方向上投影\n",
    "   的方差正相关\n",
    "   "
   ]
  },
  {
   "cell_type": "markdown",
   "metadata": {},
   "source": [
    "## 特征值和特征向量\n",
    "向量X的特征值和特征向量的定义如下    \n",
    "$\\lambda X = V^TX$   \n",
    "这个公式说明$X$乘以一个标量$\\lambda$的结果和乘以另一个向量$V$一样，其中$\\lambda$和$V$就是特征值和特征向量。 上式等号左右两侧同时右乘$X^T$得到    \n",
    "$\\lambda X X^T = V^TXX^T$   \n",
    "如果$X$均值为零，令$C=\\bar X \\bar X^T$表示协方差矩阵，则上式得到\n",
    "$\\lambda C = V^T C$    \n",
    "即$\\lambda$和$V^T$也是$C$的特征值和特征向量"
   ]
  },
  {
   "cell_type": "code",
   "execution_count": 1,
   "metadata": {},
   "outputs": [],
   "source": [
    "import cv2\n",
    "import sys,os\n",
    "import numpy as np\n",
    "\n",
    "\n",
    "sample_size = (64//2,64//2)\n",
    "smallset_size = 10 #每类下采样，方便调试\n",
    "\n",
    "flag_debug = True"
   ]
  },
  {
   "cell_type": "code",
   "execution_count": 2,
   "metadata": {},
   "outputs": [],
   "source": [
    "def load_mnist(num_per_class, dataset_root=\"C:/dataset/mnist/\",resize=sample_size):\n",
    "    data_pairs = []\n",
    "    labeldict = {}\n",
    "    ds_root = os.path.join(dataset_root,'train')\n",
    "    for rdir, pdirs, names in os.walk(ds_root):\n",
    "        for name in names:\n",
    "            basename,ext = os.path.splitext(name)\n",
    "            if ext != \".jpg\":\n",
    "                continue\n",
    "            fullpath = os.path.join(rdir,name)\n",
    "            label = fullpath.split('\\\\')[-2]\n",
    "            label = int(label)\n",
    "            if num_per_class > 0 and ( label in labeldict.keys() ) and labeldict[label] >= num_per_class:\n",
    "                continue\n",
    "            data_pairs.append((label,fullpath))\n",
    "            if label in labeldict:\n",
    "                labeldict[label] += 1\n",
    "            else:\n",
    "                labeldict[label] = 1\n",
    "    data = np.zeros((resize[0]*resize[1],len(data_pairs)))\n",
    "    labels = np.zeros(len(data_pairs))\n",
    "    for col,(label, path) in enumerate(data_pairs):\n",
    "        img = cv2.imread(path,0)\n",
    "        img = cv2.resize(img,resize)\n",
    "        img = (img / 255.0).flatten()\n",
    "        data[:,col] = img\n",
    "        labels[col] = label\n",
    "    return (data,labels)\n",
    "\n",
    "\n",
    "    "
   ]
  },
  {
   "cell_type": "code",
   "execution_count": 3,
   "metadata": {},
   "outputs": [
    {
     "name": "stdout",
     "output_type": "stream",
     "text": [
      "data shape: (1024, 100)\n",
      "mean shape: (1024, 100)\n",
      "conv shape: (1024, 1024)\n"
     ]
    }
   ],
   "source": [
    "X,Y = load_mnist(smallset_size)\n",
    "print('data shape: {}'.format(X.shape))\n",
    "Xmean = np.reshape( X.mean(axis=1),(-1,1))\n",
    "Xmean = np.tile(Xmean,(1,X.shape[1]))\n",
    "print('mean shape: {}'.format(Xmean.shape))\n",
    "Xbar = X - Xmean\n",
    "C = Xbar.dot(Xbar.transpose())\n",
    "print(\"conv shape: {}\".format(C.shape))"
   ]
  },
  {
   "cell_type": "markdown",
   "metadata": {},
   "source": [
    "计算矩阵$C$的特征值和特征向量有两个方法   \n",
    "1. 直接计算特征值，特征向量\n",
    "2. 利用SVD\n",
    "在数据降维中，需要按照方差（特征值）选择若干维度，抛弃其他维度，达到降维目的。"
   ]
  },
  {
   "cell_type": "code",
   "execution_count": 4,
   "metadata": {},
   "outputs": [],
   "source": [
    "import pdb\n",
    "def get_top_idx(lam, ratio):\n",
    "    #pdb.set_trace()\n",
    "    for k in range(1,len(lam)):\n",
    "        if np.sum(lam[:k]) > ratio * np.sum(lam):\n",
    "            #print('{} {}'.format(lam[:k].sum(), lam.sum()))\n",
    "            return k\n",
    "    return len(lam)\n",
    "\n",
    "\n",
    "def calc_inv_basic(C,ratio=-1,N=-1):\n",
    "    print(C.shape)\n",
    "    if ratio < 0 and N < 0:\n",
    "        return C.shape[1]\n",
    "    U,V = np.linalg.eigh(C)\n",
    "    U = U[::-1]\n",
    "    for k in range(C.shape[1]):\n",
    "        V[k,:] = V[k,:][::-1] \n",
    "    if ratio > 0:\n",
    "        idx = get_top_idx(U,ratio)\n",
    "    else:\n",
    "        idx = N\n",
    "    topV = V[:,:idx]\n",
    "    return topV\n",
    "\n",
    "\n",
    "def calc_inv_svd(C, ratio=-1,N=-1):\n",
    "    if ratio < 0 and N < 0:\n",
    "        return C.shape[1]\n",
    "    U,D,V = np.linalg.svd(C)\n",
    "    if ratio > 0:\n",
    "        idx = get_top_idx(D,ratio)\n",
    "    else:\n",
    "        idx = N\n",
    "    topU = U[:,:idx]\n",
    "    return topU"
   ]
  },
  {
   "cell_type": "markdown",
   "metadata": {},
   "source": [
    "不同方法得到的特征向量的方向可能不同，需要取模后再比较"
   ]
  },
  {
   "cell_type": "code",
   "execution_count": 8,
   "metadata": {},
   "outputs": [
    {
     "name": "stdout",
     "output_type": "stream",
     "text": [
      "(1024, 1024)\n",
      "topV_from_origin: (1024, 34)\n",
      "topV_from_svd: (1024, 34)\n",
      "topV_from_origin - topV_from_svd = 1.7156415177410622e-14\n"
     ]
    }
   ],
   "source": [
    "#mat = [[-1,-1,0,2,1],[2,0,0,-1,-1],[2,0,1,1,0]]\n",
    "#C = np.asarray(mat) \n",
    "#C = C.transpose().dot(C)\n",
    "ratio = 0.9\n",
    "N = -1\n",
    "topV_from_origin = calc_inv_basic(C,N=N, ratio=ratio)\n",
    "topV_from_svd = calc_inv_svd(C,N=N, ratio=ratio)\n",
    "print('topV_from_origin: {}'.format(topV_from_origin.shape))\n",
    "print('topV_from_svd: {}'.format(topV_from_svd.shape))\n",
    "\n",
    "if flag_debug:\n",
    "    #print(topV_from_origin[0,:])\n",
    "   # print(topV_from_svd[0,:])\n",
    "    df = np.abs(np.abs(topV_from_origin) - np.abs(topV_from_svd)).max()\n",
    "    print('topV_from_origin - topV_from_svd = {}'.format(df))"
   ]
  },
  {
   "cell_type": "code",
   "execution_count": 43,
   "metadata": {
    "scrolled": false
   },
   "outputs": [
    {
     "data": {
      "image/png": "[encoded data removed]",
      "text/plain": [
       "<Figure size 432x288 with 11 Axes>"
      ]
     },
     "metadata": {
      "needs_background": "light"
     },
     "output_type": "display_data"
    },
    {
     "data": {
      "image/png": "[encoded data removed]",
      "text/plain": [
       "<Figure size 432x288 with 11 Axes>"
      ]
     },
     "metadata": {
      "needs_background": "light"
     },
     "output_type": "display_data"
    }
   ],
   "source": [
    "\n",
    "%matplotlib inline\n",
    "import matplotlib.pyplot as plt\n",
    "\n",
    "def show_eigen_vector(name,m, size, N = 10):\n",
    "    fig = plt.figure()\n",
    "    plt.title(name)\n",
    "    plt.axis('off')\n",
    "    if N > m.shape[1]:\n",
    "        N = m.shape[1]\n",
    "    for c in range(N):\n",
    "        data = np.reshape(m[:,c],size)\n",
    "        ax = fig.add_subplot(1, N, c+1)\n",
    "        ax.axis('off')\n",
    "        ax.imshow(data,cmap='gray')\n",
    "        \n",
    "show_eigen_vector('origin topV',topV_from_origin, sample_size)\n",
    "\n",
    "show_eigen_vector('svd topV',topV_from_svd, sample_size)    "
   ]
  },
  {
   "cell_type": "markdown",
   "metadata": {},
   "source": [
    "## PCA空间可视化"
   ]
  },
  {
   "cell_type": "code",
   "execution_count": 47,
   "metadata": {},
   "outputs": [
    {
     "data": {
      "image/png": "[encoded data removed]",
      "text/plain": [
       "<Figure size 432x288 with 1 Axes>"
      ]
     },
     "metadata": {
      "needs_background": "light"
     },
     "output_type": "display_data"
    }
   ],
   "source": [
    "pcs = topV_from_svd\n",
    "\n",
    "cValue = [(1,0,0), (0,1,0), (0,0,1), \\\n",
    "          (0.5, 0, 0), (0,0.5,0), (0,0,0.5),\\\n",
    "          (1.0,1.0,0), (1.0,0,1.0), (0,1,1),\\\n",
    "          (0,0,0)] \n",
    "    \n",
    "Xpca = pcs.transpose().dot(Xbar)\n",
    "\n",
    "Lx,Ly,Lc = [],[],[]\n",
    "for c in range(Xpca.shape[1]):\n",
    "    Lx.append(Xpca[0,c])\n",
    "    Ly.append(Xpca[1,c])\n",
    "    Lc.append(cValue[Y[c].astype(int)])\n",
    "fig = plt.figure()\n",
    "plt.xlabel('pc-1')\n",
    "plt.ylabel('pc-2')\n",
    "ax = fig.add_subplot(111)\n",
    "ax.scatter(Lx,Ly,c = Lc, marker='s')\n",
    "plt.show()\n"
   ]
  },
  {
   "cell_type": "markdown",
   "metadata": {},
   "source": [
    "## PCA重建\n",
    "\n",
    "* 去中心化\n",
    "* 投影到PCA空间，获得pca系数\n",
    "* 用pca系数乘以对应的特征向量，结果向量取和\n"
   ]
  },
  {
   "cell_type": "code",
   "execution_count": 51,
   "metadata": {},
   "outputs": [
    {
     "data": {
      "image/png": "[encoded data removed]",
      "text/plain": [
       "<Figure size 432x288 with 21 Axes>"
      ]
     },
     "metadata": {
      "needs_background": "light"
     },
     "output_type": "display_data"
    }
   ],
   "source": [
    "pcs = topV_from_svd\n",
    "\n",
    "    \n",
    "Xpca = pcs.transpose().dot(Xbar)\n",
    "Xnew = pcs.dot(Xpca) + Xmean\n",
    "\n",
    "\n",
    "import random\n",
    "idxs = [k for k in range(X.shape[1])]\n",
    "random.shuffle(idxs)\n",
    "\n",
    "\n",
    "num = 10\n",
    "fig = plt.figure()\n",
    "plt.title('rebuild vs source')\n",
    "plt.axis('off')\n",
    "for n in range(num):\n",
    "    c = idxs[n]\n",
    "    img = np.reshape(Xnew[:,c],sample_size)\n",
    "    ax = fig.add_subplot(num,2,n*2+1)\n",
    "    ax.axis('off')\n",
    "    ax.imshow(img,cmap='gray')\n",
    "    img = np.reshape(X[:,c],sample_size)\n",
    "    ab = fig.add_subplot(num,2,n*2+2)\n",
    "    ab.axis('off')\n",
    "    ab.imshow(img,cmap='gray')\n",
    "plt.show()"
   ]
  }
 ],
 "metadata": {
  "kernelspec": {
   "display_name": "Python 3",
   "language": "python",
   "name": "python3"
  },
  "language_info": {
   "codemirror_mode": {
    "name": "ipython",
    "version": 3
   },
   "file_extension": ".py",
   "mimetype": "text/x-python",
   "name": "python",
   "nbconvert_exporter": "python",
   "pygments_lexer": "ipython3",
   "version": "3.7.1"
  }
 },
 "nbformat": 4,
 "nbformat_minor": 2
}
