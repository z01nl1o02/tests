{
 "cells": [
  {
   "cell_type": "markdown",
   "metadata": {},
   "source": [
    "# LogisticRegression\n",
    "虽然名字是回归，但是大多时间都用用来做分类。已知样本${x_i,y_i} \\ \\ i = 1,2,3,..,N$,模型函数定义如下   \n",
    "$$z_i = \\frac{1}{1+e^{-\\theta x_i}}$$    \n",
    "其中 $\\theta$ 是模型参数\n",
    "对于二分类问题，采用交叉熵损失函数    \n",
    "$$\n",
    "L = -\\frac{1}{N}\\sum_{i=1}^{N}[y_i log z_i + (1-y_i) log (1-z_i)]\n",
    "$$\n",
    "损失函数对参数求导   \n",
    "$$\n",
    "\\frac{\\partial L}{\\partial \\theta_j} = -\\frac{1}{N}\\sum_{i=1}^{N}[\\frac{y_i}{z_i} \\frac{\\partial z_i}{\\partial \\theta_j} - \\frac{1-y_i}{1-z_i} \\frac{\\partial z_i}{\\partial \\theta_j} ]\n",
    "$$\n",
    "其中   \n",
    "$$\n",
    "\\frac{\\partial z_i}{\\partial \\theta_j} = x_{ij} z_i (z_i - 1)\n",
    "$$\n",
    "带入得到\n",
    "$$\n",
    "\\frac{\\partial L}{\\partial \\theta_j} = -\\frac{1}{N}\\sum_{i=1}^{N}x_{ij}[z_i - y_i]\n",
    "$$"
   ]
  },
  {
   "cell_type": "code",
   "execution_count": 1,
   "metadata": {},
   "outputs": [],
   "source": [
    "import cv2\n",
    "import sys,os\n",
    "import numpy as np\n",
    "%matplotlib inline\n",
    "import matplotlib.pyplot as plt\n",
    "#from sklearn.decomposition import PCA\n",
    "\n",
    "\n",
    "sample_size = (64//8,64//8)\n",
    "smallset_size = 500 #每类下采样，方便调试\n",
    "labels_in_use = set([1,0]) #二分类\n",
    "\n",
    "num_pcs = 30 #\n",
    "\n",
    "flag_debug = True"
   ]
  },
  {
   "cell_type": "code",
   "execution_count": 2,
   "metadata": {},
   "outputs": [],
   "source": [
    "def load_mnist(num_per_class, dataset_root=\"C:/dataset/mnist/\",resize=sample_size):\n",
    "    data_pairs = []\n",
    "    labeldict = {}\n",
    "    ds_root = os.path.join(dataset_root,'train')\n",
    "    for rdir, pdirs, names in os.walk(ds_root):\n",
    "        for name in names:\n",
    "            basename,ext = os.path.splitext(name)\n",
    "            if ext != \".jpg\":\n",
    "                continue\n",
    "            fullpath = os.path.join(rdir,name)\n",
    "            label = fullpath.split('\\\\')[-2]\n",
    "            label = int(label)\n",
    "            if label not in labels_in_use:\n",
    "                continue\n",
    "            if num_per_class > 0 and ( label in labeldict.keys() ) and labeldict[label] >= num_per_class:\n",
    "                continue\n",
    "            data_pairs.append((label,fullpath))\n",
    "            if label in labeldict:\n",
    "                labeldict[label] += 1\n",
    "            else:\n",
    "                labeldict[label] = 1\n",
    "    data = np.zeros((resize[0]*resize[1],len(data_pairs)))\n",
    "    labels = np.zeros(len(data_pairs))\n",
    "    for col,(label, path) in enumerate(data_pairs):\n",
    "        img = cv2.imread(path,0)\n",
    "        img = cv2.resize(img,resize)\n",
    "        img = (img / 255.0).flatten()\n",
    "        data[:,col] = img\n",
    "        labels[col] = label\n",
    "    return (data,labels)\n",
    "\n",
    "X,Y = load_mnist(smallset_size)\n",
    "\n",
    "#if num_pcs > 0:\n",
    "#    pca = PCA(num_pcs)\n",
    "#    X = pca.fit_transform(X)\n"
   ]
  },
  {
   "cell_type": "code",
   "execution_count": 3,
   "metadata": {},
   "outputs": [],
   "source": [
    "def update_theta(theta, dtheta, lr):\n",
    "    theta -= lr * dtheta\n",
    "    return theta\n",
    "\n",
    "def calc_logistic_regression(X,theta):\n",
    "    theta_tile = np.tile( np.reshape(theta,(-1,1)), (1, X.shape[1])   )\n",
    "    val = (theta_tile * X).sum(axis=0)\n",
    "    scores = np.reshape( 1 / (1 + np.exp(-val)), X.shape[1])\n",
    "    return scores\n",
    "\n",
    "def calc_loss(X,Y,theta,eps = 0.000):\n",
    "    Z = calc_logistic_regression(X,theta)\n",
    "    lgZ, log1sZ = np.log(Z+eps), np.log(1-Z+eps)\n",
    "    loss = -(Y * lgZ + (1-Y)*log1sZ).mean()\n",
    "    return loss\n",
    "    \n",
    "    \n",
    "\n",
    "def calc_gradient(X,Y,theta):\n",
    "    N = len(Y)\n",
    "    Z = calc_logistic_regression(X,theta)\n",
    "    A = np.reshape(Z-Y, (1,-1))\n",
    "    grad = (X * np.tile(A, (X.shape[0],1))).mean(axis=1)\n",
    "    return grad\n",
    "\n",
    "def predict(X,theta,th = 0.5):\n",
    "    Z = calc_logistic_regression(X,theta)\n",
    "    Ybar = Z >= th\n",
    "    return Ybar.astype(int)    \n"
   ]
  },
  {
   "cell_type": "code",
   "execution_count": 4,
   "metadata": {},
   "outputs": [
    {
     "data": {
      "image/png": "[encoded data removed]",
      "text/plain": [
       "<Figure size 432x288 with 1 Axes>"
      ]
     },
     "metadata": {
      "needs_background": "light"
     },
     "output_type": "display_data"
    }
   ],
   "source": [
    "lr = 0.01\n",
    "theta = np.random.normal(0,0.1,X.shape[0])\n",
    "loss_rec, recall_rec = [], []\n",
    "for epoch in range(100):\n",
    "    grad = calc_gradient(X,Y,theta)\n",
    "    theta = update_theta(theta,grad,lr)\n",
    "    Ybar = predict(X,theta)\n",
    "    hit = (Ybar == Y).sum()\n",
    "    loss = calc_loss(X,Y,theta)\n",
    "    loss_rec.append(loss)\n",
    "    recall_rec.append(hit/X.shape[1])\n",
    "    #print('epoch {} recalling {} loss {}'.format(epoch,hit / X.shape[1],loss))\n",
    "\n",
    "    \n",
    "plt.plot(range(len(loss_rec)), loss_rec, color='red', label='loss')\n",
    "plt.plot(range(len(recall_rec)), recall_rec, color='blue',label='rcalling')\n",
    "plt.legend()\n",
    "plt.xlabel(\"epoch\")\n",
    "plt.show()"
   ]
  },
  {
   "cell_type": "code",
   "execution_count": null,
   "metadata": {},
   "outputs": [],
   "source": []
  },
  {
   "cell_type": "code",
   "execution_count": null,
   "metadata": {},
   "outputs": [],
   "source": []
  }
 ],
 "metadata": {
  "kernelspec": {
   "display_name": "Python 3",
   "language": "python",
   "name": "python3"
  },
  "language_info": {
   "codemirror_mode": {
    "name": "ipython",
    "version": 3
   },
   "file_extension": ".py",
   "mimetype": "text/x-python",
   "name": "python",
   "nbconvert_exporter": "python",
   "pygments_lexer": "ipython3",
   "version": "3.7.1"
  }
 },
 "nbformat": 4,
 "nbformat_minor": 2
}
